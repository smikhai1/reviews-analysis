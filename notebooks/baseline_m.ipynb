{
 "cells": [
  {
   "cell_type": "code",
   "execution_count": 1,
   "metadata": {},
   "outputs": [],
   "source": [
    "import json\n",
    "import re\n",
    "import numpy as np\n",
    "import pandas as pd\n",
    "import nltk\n",
    "from nltk.corpus import stopwords"
   ]
  },
  {
   "cell_type": "code",
   "execution_count": null,
   "metadata": {},
   "outputs": [],
   "source": [
    "# nltk.download('stopwords')"
   ]
  },
  {
   "cell_type": "markdown",
   "metadata": {},
   "source": [
    "## Preprocessing"
   ]
  },
  {
   "cell_type": "code",
   "execution_count": 2,
   "metadata": {},
   "outputs": [],
   "source": [
    "path_data_prepaired = '../dataset/dataset.json'"
   ]
  },
  {
   "cell_type": "code",
   "execution_count": 3,
   "metadata": {},
   "outputs": [],
   "source": [
    "data = None\n",
    "with open(path_data_prepaired) as file_data:\n",
    "    data = json.load(file_data)"
   ]
  },
  {
   "cell_type": "code",
   "execution_count": 4,
   "metadata": {},
   "outputs": [],
   "source": [
    "from preprocessing import clear_sentences"
   ]
  },
  {
   "cell_type": "code",
   "execution_count": 5,
   "metadata": {},
   "outputs": [
    {
     "name": "stdout",
     "output_type": "stream",
     "text": [
      "CPU times: user 4.38 s, sys: 304 ms, total: 4.68 s\n",
      "Wall time: 4.69 s\n"
     ]
    }
   ],
   "source": [
    "%time sentences = clear_sentences(data)"
   ]
  },
  {
   "cell_type": "code",
   "execution_count": null,
   "metadata": {},
   "outputs": [],
   "source": [
    "l = len(sentences)\n",
    "sentences = sentences[:l//10]"
   ]
  },
  {
   "cell_type": "markdown",
   "metadata": {},
   "source": [
    "## 1) Words Embeddings as Matrix Factorization"
   ]
  },
  {
   "cell_type": "code",
   "execution_count": 6,
   "metadata": {},
   "outputs": [],
   "source": [
    "from models import Word2Vec"
   ]
  },
  {
   "cell_type": "code",
   "execution_count": 7,
   "metadata": {},
   "outputs": [],
   "source": [
    "model = Word2Vec(sentences)"
   ]
  },
  {
   "cell_type": "code",
   "execution_count": 9,
   "metadata": {},
   "outputs": [
    {
     "name": "stdout",
     "output_type": "stream",
     "text": [
      "Creating vocabulary\n",
      "Creating corpus matrix\n"
     ]
    }
   ],
   "source": [
    "model.create_vocabulary()\n",
    "model.create_corpus_matrix()"
   ]
  },
  {
   "cell_type": "code",
   "execution_count": null,
   "metadata": {},
   "outputs": [],
   "source": [
    "model.compute_embedds_IMF(5)"
   ]
  },
  {
   "cell_type": "code",
   "execution_count": null,
   "metadata": {},
   "outputs": [],
   "source": [
    "model.compute_embedds_riem(5, max_iter=8)"
   ]
  },
  {
   "cell_type": "code",
   "execution_count": 10,
   "metadata": {},
   "outputs": [
    {
     "name": "stdout",
     "output_type": "stream",
     "text": [
      "0 iteration\n",
      "2.046855502882254\n",
      "2.046855502882254\n",
      "2.046855502882253\n",
      "2.0468555028773094\n",
      "2.046855476346481\n",
      "2.0466806284926182\n",
      "1.7322746676365006\n",
      "1.6248360879268595\n",
      "1.6146931311168073\n",
      "1.611917154517092\n",
      "1.5892732264132385\n",
      "1.3283955866911075\n",
      "1.1954332804156924\n",
      "1.1933436557833172\n",
      "1.1930888411822205\n",
      "1.191814587332711\n",
      "1.174845623661564\n",
      "1.127931553566037\n",
      "1.11822433888567\n",
      "1.11686996595726\n",
      "1.1128242496763572\n",
      "1.08979259235586\n",
      "1.0322785039015099\n",
      "0.9687721047495145\n",
      "0.9406286622159562\n",
      "0.9328165905672475\n",
      "0.9272993664150063\n",
      "0.9138942577804542\n",
      "0.8877741647302183\n",
      "0.8579076141746441\n",
      "0.831888507501214\n",
      "0.8053704813803598\n",
      "0.7814097800568445\n",
      "0.7634250076699038\n",
      "0.7493195468240934\n",
      "0.7374713237283224\n",
      "0.7276184534391776\n",
      "0.7199340837792481\n",
      "0.7108868733865582\n",
      "0.698128592029525\n",
      "0.6847439485032899\n",
      "0.6734531751542692\n",
      "0.6641790923564923\n",
      "0.6573335888099204\n",
      "0.6531913338775093\n",
      "0.6508746204793237\n",
      "0.6493128422757493\n",
      "0.6476784467482095\n",
      "0.6453616912360648\n",
      "0.642180615513088\n",
      "First loop finished\n",
      "Second loop finished\n",
      "1 iteration\n",
      "0.3889562120083289\n",
      "0.38634931036981374\n",
      "0.3845433459161116\n",
      "0.38292425978735195\n",
      "0.38143094573155195\n",
      "0.38007616914006\n",
      "0.37887975978175087\n",
      "0.3778428387562142\n",
      "0.3769428106909197\n",
      "0.3761400998908113\n",
      "0.3753878398546565\n",
      "0.37464037343700624\n",
      "0.3738603232137725\n",
      "0.3730246101106651\n",
      "0.372128112410155\n",
      "0.37118223515050125\n",
      "0.37020726173861696\n",
      "0.36922170661189696\n",
      "0.36823459112650736\n",
      "0.36724447920778286\n",
      "0.3662443681829564\n",
      "0.36522826647051376\n",
      "0.3641952852131581\n",
      "0.36314950680691976\n",
      "0.3620968849442137\n",
      "0.3610420166169548\n",
      "0.3599869235055151\n",
      "0.35893198447742625\n",
      "0.35787767958725053\n",
      "0.3568257054334841\n",
      "0.3557788509119333\n",
      "0.35473988278669294\n",
      "0.3537100823412281\n",
      "0.3526880518726045\n",
      "0.35166921525264483\n",
      "0.35064617424390415\n",
      "0.3496097497080764\n",
      "0.3485502285512868\n",
      "0.3474582711637045\n",
      "0.34632523605510035\n",
      "0.34514317560398533\n",
      "0.3439050586619285\n",
      "0.342605609174265\n",
      "0.34124261607448675\n",
      "0.3398180658203062\n",
      "0.33833834499142035\n",
      "0.33681313099019133\n",
      "0.3352532000362034\n",
      "0.33366788262480795\n",
      "0.33206304207611803\n",
      "First loop finished\n",
      "Second loop finished\n",
      "2 iteration\n",
      "0.28333419524644093\n",
      "0.2820885347521247\n",
      "0.28085320944176567\n",
      "0.2796088117514299\n",
      "0.27834853321238723\n",
      "0.2770692331193512\n",
      "0.2757698222324968\n",
      "0.2744507367968163\n",
      "0.2731135576921996\n",
      "0.27176064914211573\n",
      "0.27039483914239404\n",
      "0.26901917409536985\n",
      "0.2676367531449294\n",
      "0.26625061880634465\n",
      "0.26486366796427496\n",
      "0.26347855570494044\n",
      "0.2620975862562202\n",
      "0.26072260726883556\n",
      "0.2593549348162925\n",
      "0.2579953333524416\n",
      "0.2566440614536705\n",
      "0.2553009780500251\n",
      "0.25396569159201754\n",
      "0.25263772926910955\n",
      "0.25131670457895383\n",
      "0.2500024668662726\n",
      "0.24869522312037617\n",
      "0.2473956280642199\n",
      "0.24610484204703065\n",
      "0.24482455728027308\n",
      "0.2435569924170276\n",
      "0.2423048547824205\n",
      "0.24107126988236324\n",
      "0.23985967953852402\n",
      "0.23867371273091678\n",
      "0.23751703617855843\n",
      "0.2363931940767192\n",
      "0.23530544777642845\n",
      "0.23425662647709208\n",
      "0.2332489993949247\n",
      "0.23228417853210417\n",
      "0.2313630590722565\n",
      "0.23048580143163194\n",
      "0.22965185513858485\n",
      "0.22886002041893\n",
      "0.22810853940905804\n",
      "0.227395206175386\n",
      "0.22671748382678208\n",
      "0.22607261813583\n",
      "0.2254577398726696\n",
      "First loop finished\n",
      "Second loop finished\n",
      "3 iteration\n",
      "0.20241210009716307\n",
      "0.2019373897376839\n",
      "0.20148416203544203\n",
      "0.20104814834935034\n",
      "0.20062642718162485\n",
      "0.20021680411527137\n",
      "0.19981753628274165\n",
      "0.1994271951310813\n",
      "0.19904459204723773\n",
      "0.19866873344238045\n",
      "0.19829878905230272\n",
      "0.19793406559935564\n",
      "0.19757398252806674\n",
      "0.19721804909128915\n",
      "0.19686584339298743\n",
      "0.1965169944696274\n",
      "0.19617116836908552\n",
      "0.1958280586879982\n",
      "0.19548738136979515\n",
      "0.19514887293687858\n",
      "0.19481229087594956\n",
      "0.19447741469833352\n",
      "0.19414404627579204\n",
      "0.19381200836866852\n",
      "0.19348114073823328\n",
      "0.19315129376899975\n",
      "0.19282232002151906\n",
      "0.1924940645157963\n",
      "0.19216635476955593\n",
      "0.19183899168188032\n",
      "0.19151174228901993\n",
      "0.19118433526809367\n",
      "0.19085645986721328\n",
      "0.190527768725105\n",
      "0.19019788481919078\n",
      "0.18986641254268288\n",
      "0.18953295264605802\n",
      "0.18919712047813145\n",
      "0.18885856663294034\n",
      "0.18851699877660794\n",
      "0.1881722031382999\n",
      "0.1878240639576175\n",
      "0.1874725791423955\n",
      "0.18711787054499174\n",
      "0.18676018762254232\n",
      "0.18639990378279894\n",
      "0.18603750537355263\n",
      "0.18567357396658896\n",
      "0.18530876322272138\n",
      "0.18494377211583135\n",
      "First loop finished\n",
      "Second loop finished\n",
      "4 iteration\n",
      "0.1688255288772468\n",
      "0.16851901166730424\n",
      "0.1682150143154894\n",
      "0.16791345525443338\n",
      "0.16761447969314508\n",
      "0.16731828671897825\n",
      "0.16702507026660976\n",
      "0.1667349951199525\n",
      "0.1664481867551004\n",
      "0.1661647281017212\n",
      "0.1658846602444627\n",
      "0.1656079854192054\n",
      "0.16533467124652101\n",
      "0.16506465547649174\n",
      "0.16479785074292458\n",
      "0.16453414899320515\n",
      "0.16427342539354908\n",
      "0.1640155416170348\n",
      "0.16376034850745455\n",
      "0.1635076881775859\n",
      "0.163257395647275\n",
      "0.16300930015600937\n",
      "0.16276322629792114\n",
      "0.16251899512611523\n",
      "0.1622764253597315\n",
      "0.1620353348033048\n",
      "0.16179554205595342\n",
      "0.16155686855005175\n",
      "0.16131914091783844\n",
      "0.16108219364259713\n",
      "0.16084587191147737\n",
      "0.16061003455262093\n",
      "0.1603745569128594\n",
      "0.160139333516233\n",
      "0.15990428033976245\n",
      "0.1596693365520734\n",
      "0.15943446558232852\n",
      "0.15919965541996917\n",
      "0.15896491808739532\n",
      "0.15873028827449776\n",
      "0.15849582117197056\n",
      "0.15826158958570363\n",
      "0.1580276804536989\n",
      "0.1577941909171548\n",
      "0.15756122411679888\n",
      "0.15732888489351313\n",
      "0.1570972755691118\n",
      "0.15686649196996724\n",
      "0.15663661983487495\n",
      "0.15640773172128394\n",
      "First loop finished\n",
      "Second loop finished\n",
      "5 iteration\n",
      "0.1462101444750497\n",
      "0.14600790681066214\n",
      "0.14580807293589584\n",
      "0.14560966192199648\n",
      "0.14541237336778767\n",
      "0.1452160809837128\n",
      "0.1450207025495273\n",
      "0.1448261647054912\n",
      "0.14463239273711417\n",
      "0.14443930751360184\n",
      "0.14424682478878548\n",
      "0.14405485544137675\n",
      "0.1438633061499141\n",
      "0.1436720802783734\n",
      "0.14348107885296862\n",
      "0.1432902015606984\n",
      "0.14309934772969446\n",
      "0.14290841727093467\n",
      "0.1427173115742161\n",
      "0.1425259343600489\n",
      "0.14233419249419926\n",
      "0.14214199677354286\n",
      "0.14194926269122526\n",
      "0.14175591118637318\n",
      "0.14156186937938386\n",
      "0.14136707128873277\n",
      "0.14117145851995236\n",
      "0.14097498091253294\n",
      "0.14077759712653407\n",
      "0.1405792751481028\n",
      "0.14037999269216872\n",
      "0.14017973748147866\n",
      "0.1399785073838506\n",
      "0.13977631039389726\n",
      "0.13957316445122345\n",
      "0.1393690970938573\n",
      "0.13916414495293367\n",
      "0.13895835310194452\n",
      "0.13875177428065322\n",
      "0.1385444680195782\n",
      "0.13833649969537157\n",
      "0.13812793955010363\n",
      "0.13791886170826648\n",
      "0.13770934322410788\n",
      "0.13749946318883818\n",
      "0.13728930192249839\n",
      "0.13707894026920486\n",
      "0.13686845900751166\n",
      "0.13665793838026968\n",
      "0.13644745774111405\n",
      "First loop finished\n",
      "Second loop finished\n",
      "6 iteration\n",
      "0.12924452986481832\n",
      "0.1290498017042947\n",
      "0.12885916886926657\n",
      "0.1286700815502069\n",
      "0.12848182315387538\n",
      "0.12829419553611207\n",
      "0.1281071560820509\n",
      "0.12792071335910185\n",
      "0.12773489512213698\n",
      "0.1275497373652176\n",
      "0.12736527990537458\n",
      "0.12718156422207172\n",
      "0.12699863220049554\n",
      "0.12681652530086995\n",
      "0.12663528395930007\n",
      "0.12645494712988636\n",
      "0.12627555192260947\n",
      "0.1260971333134428\n",
      "0.12591972391476317\n",
      "0.12574335380029159\n",
      "0.12556805038181565\n",
      "0.1253938383360754\n",
      "0.12522073958021515\n",
      "0.12504877329361136\n",
      "0.12487795598300709\n",
      "0.12470830158695648\n",
      "0.1245398216147291\n",
      "0.12437252531415438\n",
      "0.12420641986242241\n",
      "0.12404151057363416\n",
      "0.12387780111688347\n",
      "0.12371529373884656\n",
      "0.12355398948520899\n",
      "0.12339388841574903\n",
      "0.12323498980847142\n",
      "0.12307729234883086\n",
      "0.12292079430075029\n",
      "0.12276549365681601\n",
      "0.12261138826570266\n",
      "0.12245847593551158\n",
      "0.12230675451231665\n",
      "0.12215622193376816\n",
      "0.12200687625811987\n",
      "0.12185871566951023\n",
      "0.12171173846073585\n",
      "0.12156594299512162\n",
      "0.12142132764938918\n",
      "0.1212778907396779\n",
      "0.12113563043306415\n",
      "0.12099454464705768\n",
      "First loop finished\n",
      "Second loop finished\n",
      "7 iteration\n",
      "0.11540892903869843\n",
      "0.115276387395135\n",
      "0.11514823044923354\n",
      "0.11502225841335541\n",
      "0.114897762327051\n",
      "0.1147744906203923\n",
      "0.11465233926628465\n",
      "0.11453125558390996\n",
      "0.11441120676569283\n",
      "0.11429216865576274\n",
      "0.11417412120471859\n",
      "0.1140570463246064\n",
      "0.11394092672361535\n",
      "0.1138257452052053\n",
      "0.1137114842196533\n",
      "0.11359812556727833\n",
      "0.11348565019897042\n",
      "0.11337403808190205\n",
      "0.11326326811036819\n",
      "0.11315331804883666\n",
      "0.11304416449874098\n",
      "0.11293578288341849\n",
      "0.11282814744749568\n",
      "0.11272123126829367\n",
      "0.11261500627770504\n",
      "0.11250944329358631\n",
      "0.11240451206013141\n",
      "0.11230018129697143\n",
      "0.11219641875692696\n",
      "0.11209319129245038\n",
      "0.11199046493083445\n",
      "0.11188820495826476\n",
      "0.11178637601273857\n",
      "0.11168494218579535\n",
      "0.11158386713288962\n",
      "0.1114831141921068\n",
      "0.11138264651076933\n",
      "0.11128242717932668\n",
      "0.11118241937175098\n",
      "0.1110825864915041\n",
      "0.11098289232197613\n",
      "0.1108833011801525\n",
      "0.11078377807212879\n",
      "0.1106842888489804\n",
      "0.11058480036139759\n",
      "0.11048528061143019\n",
      "0.11038569889964384\n",
      "0.11028602596598072\n",
      "0.1101862341226336\n",
      "0.11008629737729755\n",
      "First loop finished\n",
      "Second loop finished\n",
      "8 iteration\n",
      "0.10546927393288978\n",
      "0.10537322528072451\n",
      "0.10527895096543821\n",
      "0.10518522562281588\n",
      "0.10509161633277664\n",
      "0.10499795356399642\n",
      "0.10490416045028024\n",
      "0.10481019598149365\n",
      "0.10471603519004663\n",
      "0.10462166169168492\n",
      "0.10452706453797608\n",
      "0.10443223668392862\n",
      "0.10433717412544036\n",
      "0.10424187535031397\n",
      "0.10414634095385725\n",
      "0.10405057334862224\n",
      "0.10395457653095173\n",
      "0.10385835588283868\n",
      "0.10376191799612376\n",
      "0.10366527051108021\n",
      "0.10356842196456552\n",
      "0.10347138164493097\n",
      "0.1033741594522055\n",
      "0.10327676576293313\n",
      "0.10317921129962357\n",
      "0.10308150700513605\n",
      "0.10298366392256006\n",
      "0.10288569308128864\n",
      "0.1027876053900562\n",
      "0.10268941153773323\n",
      "0.1025911219026596\n",
      "0.10249274647125578\n",
      "0.10239429476659247\n",
      "0.10229577578751275\n",
      "0.1021971979588135\n",
      "0.10209856909287691\n",
      "0.1019998963630274\n",
      "0.10190118628876058\n",
      "0.10180244473284883\n",
      "0.10170367691019086\n",
      "0.10160488740812036\n",
      "0.10150608021773765\n",
      "0.10140725877568493\n",
      "0.1013084260156288\n",
      "0.10120958442858012\n",
      "0.10111073613104178\n",
      "0.10101188293985819\n",
      "0.10091302645252533\n",
      "0.10081416813163711\n",
      "0.10071530939206763\n",
      "First loop finished\n",
      "Second loop finished\n",
      "9 iteration\n",
      "0.09686011918277516\n",
      "0.09676641372740305\n",
      "0.0966737106285036\n",
      "0.09658142992489872\n",
      "0.09648935522139462\n",
      "0.09639739960577651\n",
      "0.09630552494807754\n",
      "0.09621371319770457\n",
      "0.09612195566981128\n",
      "0.09603024873804648\n",
      "0.09593859191575967\n",
      "0.09584698689251554\n",
      "0.09575543699087505\n",
      "0.09566394682895031\n",
      "0.09557252209387958\n",
      "0.09548116937932002\n",
      "0.09538989606125671\n",
      "0.09529871019695892\n",
      "0.09520762043773458\n",
      "0.09511663594963994\n",
      "0.09502576633853047\n",
      "0.09493502157731054\n",
      "0.09484441193421421\n",
      "0.0947539479016184\n",
      "0.09466364012532726\n",
      "0.09457349933456202\n",
      "0.0944835362730748\n",
      "0.09439376163191306\n",
      "0.09430418598441626\n",
      "0.09421481972403727\n",
      "0.09412567300556218\n",
      "0.09403675569026318\n",
      "0.09394807729546052\n",
      "0.09385964694890314\n",
      "0.09377147334829815\n",
      "0.09368356472624151\n",
      "0.09359592882072053\n",
      "0.09350857285127308\n",
      "0.09342150350081535\n",
      "0.0933347269030703\n",
      "0.09324824863546109\n",
      "0.09316207371727304\n",
      "0.0930762066128289\n",
      "0.0929906512393755\n",
      "0.09290541097934141\n",
      "0.09282048869659013\n",
      "0.09273588675627345\n",
      "0.09265160704786922\n",
      "0.09256765101098227\n",
      "0.09248401966348303\n",
      "First loop finished\n",
      "Second loop finished\n",
      "10 iteration\n",
      "0.08931752865459072\n",
      "0.0892383324220067\n",
      "0.08916013430712326\n",
      "0.08908254739348384\n",
      "0.08900541485857151\n",
      "0.08892866699680221\n",
      "0.08885226900162523\n",
      "0.08877620121643903\n",
      "0.08870045126105242\n",
      "0.08862501064594522\n",
      "0.08854987317044773\n",
      "0.08847503408441862\n",
      "0.08840048960924658\n",
      "0.08832623664620398\n",
      "0.08825227259180657\n",
      "0.08817859521858719\n",
      "0.08810520259763988\n",
      "0.0880320930484984\n",
      "0.08795926510710662\n",
      "0.08788671750577873\n",
      "0.08781444916105494\n",
      "0.08774245916667482\n",
      "0.08767074678977226\n"
     ]
    },
    {
     "ename": "KeyboardInterrupt",
     "evalue": "",
     "output_type": "error",
     "traceback": [
      "\u001b[0;31m---------------------------------------------------------------------------\u001b[0m",
      "\u001b[0;31mKeyboardInterrupt\u001b[0m                         Traceback (most recent call last)",
      "\u001b[0;32m<ipython-input-10-9da0af051636>\u001b[0m in \u001b[0;36m<module>\u001b[0;34m\u001b[0m\n\u001b[0;32m----> 1\u001b[0;31m \u001b[0mmodel\u001b[0m\u001b[0;34m.\u001b[0m\u001b[0mcompute_embedds_EMF\u001b[0m\u001b[0;34m(\u001b[0m\u001b[0;36m5\u001b[0m\u001b[0;34m,\u001b[0m \u001b[0meps\u001b[0m\u001b[0;34m=\u001b[0m\u001b[0;36m5e-1\u001b[0m\u001b[0;34m,\u001b[0m \u001b[0mmax_iter\u001b[0m\u001b[0;34m=\u001b[0m\u001b[0;36m50\u001b[0m\u001b[0;34m,\u001b[0m \u001b[0mstep\u001b[0m\u001b[0;34m=\u001b[0m\u001b[0;36m1e-8\u001b[0m\u001b[0;34m)\u001b[0m\u001b[0;34m\u001b[0m\u001b[0m\n\u001b[0m",
      "\u001b[0;32m~/projects/edu/skoltech/nla2018-master/project/NLA--project/notebooks/models.py\u001b[0m in \u001b[0;36mcompute_embedds_EMF\u001b[0;34m(self, k, step, max_iter, eps, iters)\u001b[0m\n\u001b[1;32m    198\u001b[0m             \u001b[0;32mfor\u001b[0m \u001b[0mj\u001b[0m \u001b[0;32min\u001b[0m \u001b[0mrange\u001b[0m\u001b[0;34m(\u001b[0m\u001b[0miters\u001b[0m\u001b[0;34m)\u001b[0m\u001b[0;34m:\u001b[0m\u001b[0;34m\u001b[0m\u001b[0m\n\u001b[1;32m    199\u001b[0m                 \u001b[0mWt_prvs\u001b[0m \u001b[0;34m=\u001b[0m \u001b[0mself\u001b[0m\u001b[0;34m.\u001b[0m\u001b[0mWt\u001b[0m\u001b[0;34m\u001b[0m\u001b[0m\n\u001b[0;32m--> 200\u001b[0;31m                 \u001b[0mE\u001b[0m \u001b[0;34m=\u001b[0m \u001b[0mQ\u001b[0m \u001b[0;34m*\u001b[0m \u001b[0mself\u001b[0m\u001b[0;34m.\u001b[0m\u001b[0msigmoid\u001b[0m\u001b[0;34m(\u001b[0m\u001b[0mself\u001b[0m\u001b[0;34m.\u001b[0m\u001b[0mCt\u001b[0m\u001b[0;34m.\u001b[0m\u001b[0mT\u001b[0m \u001b[0;34m@\u001b[0m \u001b[0mself\u001b[0m\u001b[0;34m.\u001b[0m\u001b[0mWt\u001b[0m\u001b[0;34m)\u001b[0m\u001b[0;34m\u001b[0m\u001b[0m\n\u001b[0m\u001b[1;32m    201\u001b[0m                 \u001b[0mself\u001b[0m\u001b[0;34m.\u001b[0m\u001b[0mWt\u001b[0m \u001b[0;34m=\u001b[0m \u001b[0mself\u001b[0m\u001b[0;34m.\u001b[0m\u001b[0mWt\u001b[0m \u001b[0;34m-\u001b[0m \u001b[0mstep\u001b[0m \u001b[0;34m*\u001b[0m \u001b[0mself\u001b[0m\u001b[0;34m.\u001b[0m\u001b[0mCt\u001b[0m \u001b[0;34m@\u001b[0m \u001b[0;34m(\u001b[0m\u001b[0mE\u001b[0m \u001b[0;34m-\u001b[0m \u001b[0mself\u001b[0m\u001b[0;34m.\u001b[0m\u001b[0mD\u001b[0m\u001b[0;34m.\u001b[0m\u001b[0mtoarray\u001b[0m\u001b[0;34m(\u001b[0m\u001b[0;34m)\u001b[0m\u001b[0;34m)\u001b[0m\u001b[0;34m\u001b[0m\u001b[0m\n\u001b[1;32m    202\u001b[0m                 \u001b[0mprint\u001b[0m\u001b[0;34m(\u001b[0m\u001b[0merror\u001b[0m\u001b[0;34m(\u001b[0m\u001b[0mself\u001b[0m\u001b[0;34m.\u001b[0m\u001b[0mWt\u001b[0m\u001b[0;34m,\u001b[0m \u001b[0mWt_prvs\u001b[0m\u001b[0;34m)\u001b[0m\u001b[0;34m)\u001b[0m\u001b[0;34m\u001b[0m\u001b[0m\n",
      "\u001b[0;32m~/projects/edu/skoltech/nla2018-master/project/NLA--project/notebooks/models.py\u001b[0m in \u001b[0;36msigmoid\u001b[0;34m(self, x)\u001b[0m\n\u001b[1;32m     96\u001b[0m     \u001b[0;31m###### Sigmoid ######\u001b[0m\u001b[0;34m\u001b[0m\u001b[0;34m\u001b[0m\u001b[0m\n\u001b[1;32m     97\u001b[0m     \u001b[0;32mdef\u001b[0m \u001b[0msigmoid\u001b[0m\u001b[0;34m(\u001b[0m\u001b[0mself\u001b[0m\u001b[0;34m,\u001b[0m \u001b[0mx\u001b[0m\u001b[0;34m)\u001b[0m\u001b[0;34m:\u001b[0m\u001b[0;34m\u001b[0m\u001b[0m\n\u001b[0;32m---> 98\u001b[0;31m         \u001b[0;32mreturn\u001b[0m \u001b[0;36m1\u001b[0m \u001b[0;34m/\u001b[0m \u001b[0;34m(\u001b[0m\u001b[0;36m1\u001b[0m \u001b[0;34m+\u001b[0m \u001b[0mnp\u001b[0m\u001b[0;34m.\u001b[0m\u001b[0mexp\u001b[0m\u001b[0;34m(\u001b[0m\u001b[0;34m-\u001b[0m\u001b[0mx\u001b[0m\u001b[0;34m)\u001b[0m\u001b[0;34m)\u001b[0m\u001b[0;34m\u001b[0m\u001b[0m\n\u001b[0m\u001b[1;32m     99\u001b[0m \u001b[0;34m\u001b[0m\u001b[0m\n\u001b[1;32m    100\u001b[0m     \u001b[0;31m##### Loss function #####\u001b[0m\u001b[0;34m\u001b[0m\u001b[0;34m\u001b[0m\u001b[0m\n",
      "\u001b[0;31mKeyboardInterrupt\u001b[0m: "
     ]
    }
   ],
   "source": [
    "model.compute_embedds_EMF(5, eps=5e-1, max_iter=50, step=1e-8)"
   ]
  },
  {
   "cell_type": "code",
   "execution_count": 14,
   "metadata": {},
   "outputs": [
    {
     "data": {
      "text/plain": [
       "3723"
      ]
     },
     "execution_count": 14,
     "metadata": {},
     "output_type": "execute_result"
    }
   ],
   "source": [
    "len(model.vocab)"
   ]
  },
  {
   "cell_type": "code",
   "execution_count": 12,
   "metadata": {},
   "outputs": [
    {
     "data": {
      "text/plain": [
       "(200, 3723)"
      ]
     },
     "execution_count": 12,
     "metadata": {},
     "output_type": "execute_result"
    }
   ],
   "source": [
    "model.Ct.shape"
   ]
  },
  {
   "cell_type": "code",
   "execution_count": 11,
   "metadata": {},
   "outputs": [
    {
     "ename": "AttributeError",
     "evalue": "'NoneType' object has no attribute 'shape'",
     "output_type": "error",
     "traceback": [
      "\u001b[0;31m---------------------------------------------------------------------------\u001b[0m",
      "\u001b[0;31mAttributeError\u001b[0m                            Traceback (most recent call last)",
      "\u001b[0;32m<ipython-input-11-836933e8ef75>\u001b[0m in \u001b[0;36m<module>\u001b[0;34m\u001b[0m\n\u001b[0;32m----> 1\u001b[0;31m \u001b[0mmodel\u001b[0m\u001b[0;34m.\u001b[0m\u001b[0mW\u001b[0m\u001b[0;34m.\u001b[0m\u001b[0mshape\u001b[0m\u001b[0;34m\u001b[0m\u001b[0m\n\u001b[0m",
      "\u001b[0;31mAttributeError\u001b[0m: 'NoneType' object has no attribute 'shape'"
     ]
    }
   ],
   "source": [
    "model.W.shape"
   ]
  },
  {
   "cell_type": "code",
   "execution_count": null,
   "metadata": {},
   "outputs": [],
   "source": [
    "##### Compute review embeddings #####\n",
    "def get_review_embedding(model, review):\n",
    "    \"\"\"\n",
    "    model -- word2vec model instance, which is used\n",
    "    review -- current review to be embedded\n",
    "    \"\"\"\n",
    "    \n",
    "    review_vec = np.zeros(model.d)\n",
    "    words_count = 0\n",
    "    stops = set(stopwords.words(\"english\"))\n",
    "    \n",
    "    for word in review:\n",
    "        if (word in model.vocab) and not (word in stops):\n",
    "            review_vec += model.get_word_embedding(word)\n",
    "            words_count += 1\n",
    "    review_vec /= words_count\n",
    "    return review_vec"
   ]
  },
  {
   "cell_type": "code",
   "execution_count": null,
   "metadata": {},
   "outputs": [],
   "source": [
    "##### Compute review embeddings #####\n",
    "def get_features_matrix(model, reviews):\n",
    "    \"\"\"\n",
    "    model -- word2vec model instance, which is used\n",
    "    reviews -- the whole collection of reviews\n",
    "    \"\"\"\n",
    "    X = np.zeros((len(reviews), model.d))\n",
    "    for idx, review in enumerate(reviews):\n",
    "        X[idx, :] = get_review_embedding(model, review)\n",
    "    return X"
   ]
  },
  {
   "cell_type": "code",
   "execution_count": 15,
   "metadata": {},
   "outputs": [
    {
     "name": "stderr",
     "output_type": "stream",
     "text": [
      "/Users/mikhail/projects/edu/skoltech/nla2018-master/project/NLA--project/notebooks/models.py:268: RuntimeWarning: invalid value encountered in true_divide\n",
      "  review_vec /= words_count\n"
     ]
    },
    {
     "data": {
      "text/plain": [
       "(194439, 200)"
      ]
     },
     "execution_count": 15,
     "metadata": {},
     "output_type": "execute_result"
    }
   ],
   "source": [
    "X = model.get_features_matrix2(sentences)\n",
    "X.shape"
   ]
  },
  {
   "cell_type": "markdown",
   "metadata": {},
   "source": [
    "### Comparison models of embeddings"
   ]
  },
  {
   "cell_type": "code",
   "execution_count": 27,
   "metadata": {},
   "outputs": [],
   "source": [
    "# import clissifiers and necessary functions\n",
    "from xgboost import XGBClassifier\n",
    "from sklearn.ensemble import RandomForestClassifier\n",
    "from sklearn.model_selection import cross_val_score, train_test_split, RandomizedSearchCV, GridSearchCV\n",
    "from sklearn.metrics import accuracy_score, roc_auc_score, f1_score"
   ]
  },
  {
   "cell_type": "code",
   "execution_count": 17,
   "metadata": {},
   "outputs": [],
   "source": [
    "# create dataframe from the json file\n",
    "df = pd.read_json(path_data_prepaired)"
   ]
  },
  {
   "cell_type": "code",
   "execution_count": 18,
   "metadata": {},
   "outputs": [],
   "source": [
    "# get labels\n",
    "y = (df['overall'] > 3).apply(int)"
   ]
  },
  {
   "cell_type": "code",
   "execution_count": 19,
   "metadata": {},
   "outputs": [],
   "source": [
    "# get indices of rows which contain NaNs\n",
    "del_idx = np.argwhere(np.isnan(X))[:, 0]"
   ]
  },
  {
   "cell_type": "code",
   "execution_count": 20,
   "metadata": {},
   "outputs": [],
   "source": [
    "# delete rows with NaNs\n",
    "X = X[~np.isnan(X).any(axis=1)]\n",
    "y = y.drop(del_idx)"
   ]
  },
  {
   "cell_type": "code",
   "execution_count": 21,
   "metadata": {},
   "outputs": [
    {
     "data": {
      "text/plain": [
       "((194286,), (194286, 200))"
      ]
     },
     "execution_count": 21,
     "metadata": {},
     "output_type": "execute_result"
    }
   ],
   "source": [
    "y.shape, X.shape"
   ]
  },
  {
   "cell_type": "code",
   "execution_count": 22,
   "metadata": {},
   "outputs": [],
   "source": [
    "X_train, X_test, y_train, y_test = \\\n",
    "    train_test_split(X, y, test_size=0.33, random_state=42, shuffle=True)"
   ]
  },
  {
   "cell_type": "markdown",
   "metadata": {},
   "source": [
    "Try RF classifier out of the box"
   ]
  },
  {
   "cell_type": "code",
   "execution_count": 23,
   "metadata": {},
   "outputs": [],
   "source": [
    "rf_clf = RandomForestClassifier(random_state=42)\n",
    "#cv_scores = cross_val_score(rf_clf, X_train, y_train, n_jobs=-1, cv=5)"
   ]
  },
  {
   "cell_type": "code",
   "execution_count": null,
   "metadata": {},
   "outputs": [],
   "source": [
    "print(f'Accuracy score: {cv_scores.mean()} +/- {cv_scores.std()}')"
   ]
  },
  {
   "cell_type": "code",
   "execution_count": null,
   "metadata": {},
   "outputs": [],
   "source": []
  },
  {
   "cell_type": "markdown",
   "metadata": {},
   "source": [
    "Evaluate model on the holdout set"
   ]
  },
  {
   "cell_type": "code",
   "execution_count": 25,
   "metadata": {},
   "outputs": [
    {
     "ename": "NameError",
     "evalue": "name 'accuracy' is not defined",
     "output_type": "error",
     "traceback": [
      "\u001b[0;31m---------------------------------------------------------------------------\u001b[0m",
      "\u001b[0;31mNameError\u001b[0m                                 Traceback (most recent call last)",
      "\u001b[0;32m<ipython-input-25-66a0ec95690f>\u001b[0m in \u001b[0;36m<module>\u001b[0;34m\u001b[0m\n\u001b[1;32m      1\u001b[0m \u001b[0mrf_clf\u001b[0m\u001b[0;34m.\u001b[0m\u001b[0mfit\u001b[0m\u001b[0;34m(\u001b[0m\u001b[0mX_train\u001b[0m\u001b[0;34m,\u001b[0m \u001b[0my_train\u001b[0m\u001b[0;34m)\u001b[0m\u001b[0;34m\u001b[0m\u001b[0m\n\u001b[1;32m      2\u001b[0m \u001b[0my_pred\u001b[0m \u001b[0;34m=\u001b[0m \u001b[0mrf_clf\u001b[0m\u001b[0;34m.\u001b[0m\u001b[0mpredict\u001b[0m\u001b[0;34m(\u001b[0m\u001b[0mX_test\u001b[0m\u001b[0;34m)\u001b[0m\u001b[0;34m\u001b[0m\u001b[0m\n\u001b[0;32m----> 3\u001b[0;31m \u001b[0mprint\u001b[0m\u001b[0;34m(\u001b[0m\u001b[0;34mf'Accuracy on holdout set: {accuracy(y_test, y_pred)}'\u001b[0m\u001b[0;34m)\u001b[0m\u001b[0;34m\u001b[0m\u001b[0m\n\u001b[0m",
      "\u001b[0;31mNameError\u001b[0m: name 'accuracy' is not defined"
     ]
    }
   ],
   "source": [
    "rf_clf.fit(X_train, y_train)\n",
    "y_pred = rf_clf.predict(X_test)\n"
   ]
  },
  {
   "cell_type": "code",
   "execution_count": 28,
   "metadata": {},
   "outputs": [
    {
     "name": "stdout",
     "output_type": "stream",
     "text": [
      "Accuracy on holdout set: 0.8329184726720551\n"
     ]
    }
   ],
   "source": [
    "print(f'Accuracy on holdout set: {f1_score(y_test, y_pred)}')"
   ]
  },
  {
   "cell_type": "code",
   "execution_count": null,
   "metadata": {},
   "outputs": [],
   "source": [
    "params = {'n_estimators': list(range(5, 51, 5)), 'max_depth': list(range(5, 100, 5)), \n",
    "         'min_samples_split': list(range(1, 11, 1))}\n",
    "\n",
    "clf = RandomizedSearchCV(RandomForestClassifier(), params, n_jobs=-1, \n",
    "                         cv=5, verbose=1, random_state=42)"
   ]
  },
  {
   "cell_type": "code",
   "execution_count": null,
   "metadata": {},
   "outputs": [],
   "source": [
    "clf.fit(X_train, y_train)"
   ]
  },
  {
   "cell_type": "code",
   "execution_count": null,
   "metadata": {},
   "outputs": [],
   "source": [
    "rf_clf.fit(X_train, y_train)\n",
    "y_pred = rf_clf.predict(X_test)\n",
    "print(f'Accuracy on holdout set: {roc_auc_score(y_test, y_pred)}')"
   ]
  },
  {
   "cell_type": "code",
   "execution_count": null,
   "metadata": {},
   "outputs": [],
   "source": []
  },
  {
   "cell_type": "markdown",
   "metadata": {},
   "source": [
    "xgboost is very slow on mac ...."
   ]
  },
  {
   "cell_type": "code",
   "execution_count": null,
   "metadata": {},
   "outputs": [],
   "source": [
    "xgbm_cls = XGBClassifier(random_state=42)\n",
    "cv_scores = cross_val_score(xgbm_cls, X_train, y_train, n_jobs=-1, cv=5)"
   ]
  },
  {
   "cell_type": "code",
   "execution_count": null,
   "metadata": {},
   "outputs": [],
   "source": [
    "print(f'Accuracy score: {cv_scores.mean()} +/- {cv_scores.std()}')"
   ]
  },
  {
   "cell_type": "code",
   "execution_count": null,
   "metadata": {},
   "outputs": [],
   "source": [
    "X_df = pd.DataFrame(X)"
   ]
  },
  {
   "cell_type": "code",
   "execution_count": null,
   "metadata": {},
   "outputs": [],
   "source": [
    "X_df.to_csv('../dataset/X_1.csv')\n",
    "y.to_csv('../dataset/y_1.csv')"
   ]
  },
  {
   "cell_type": "code",
   "execution_count": null,
   "metadata": {},
   "outputs": [],
   "source": [
    "X_df.to_csv('../dataset/X_1.csv')"
   ]
  },
  {
   "cell_type": "code",
   "execution_count": null,
   "metadata": {},
   "outputs": [],
   "source": [
    "y.shape"
   ]
  },
  {
   "cell_type": "code",
   "execution_count": null,
   "metadata": {},
   "outputs": [],
   "source": []
  }
 ],
 "metadata": {
  "kernelspec": {
   "display_name": "Python 3",
   "language": "python",
   "name": "python3"
  },
  "language_info": {
   "codemirror_mode": {
    "name": "ipython",
    "version": 3
   },
   "file_extension": ".py",
   "mimetype": "text/x-python",
   "name": "python",
   "nbconvert_exporter": "python",
   "pygments_lexer": "ipython3",
   "version": "3.7.0"
  }
 },
 "nbformat": 4,
 "nbformat_minor": 2
}
