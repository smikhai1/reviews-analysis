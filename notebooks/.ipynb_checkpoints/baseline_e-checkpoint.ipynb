{
 "cells": [
  {
   "cell_type": "code",
   "execution_count": 4,
   "metadata": {},
   "outputs": [],
   "source": [
    "import copy\n",
    "import json\n",
    "import re\n",
    "import numpy as np\n",
    "import pandas as pd\n",
    "import nltk\n",
    "from nltk.corpus import stopwords\n",
    "from sklearn.metrics.pairwise import cosine_similarity\n",
    "from scipy.stats import spearmanr"
   ]
  },
  {
   "cell_type": "code",
   "execution_count": 5,
   "metadata": {},
   "outputs": [
    {
     "name": "stdout",
     "output_type": "stream",
     "text": [
      "[nltk_data] Downloading package stopwords to\n",
      "[nltk_data]     /Users/egor_baryshnikov/nltk_data...\n",
      "[nltk_data]   Package stopwords is already up-to-date!\n"
     ]
    },
    {
     "data": {
      "text/plain": [
       "True"
      ]
     },
     "execution_count": 5,
     "metadata": {},
     "output_type": "execute_result"
    }
   ],
   "source": [
    "nltk.download('stopwords')"
   ]
  },
  {
   "cell_type": "markdown",
   "metadata": {},
   "source": [
    "## Preprocessing"
   ]
  },
  {
   "cell_type": "code",
   "execution_count": 8,
   "metadata": {},
   "outputs": [],
   "source": [
    "from preprocessing import clear_sentences"
   ]
  },
  {
   "cell_type": "code",
   "execution_count": 6,
   "metadata": {},
   "outputs": [],
   "source": [
    "path_data_prepaired = '../dataset/dataset.json'"
   ]
  },
  {
   "cell_type": "code",
   "execution_count": 7,
   "metadata": {},
   "outputs": [],
   "source": [
    "data = None\n",
    "with open(path_data_prepaired) as file_data:\n",
    "    data = json.load(file_data)"
   ]
  },
  {
   "cell_type": "code",
   "execution_count": 9,
   "metadata": {},
   "outputs": [
    {
     "name": "stdout",
     "output_type": "stream",
     "text": [
      "CPU times: user 3.98 s, sys: 372 ms, total: 4.36 s\n",
      "Wall time: 4.36 s\n"
     ]
    }
   ],
   "source": [
    "%time sentences = clear_sentences(data)"
   ]
  },
  {
   "cell_type": "code",
   "execution_count": 17,
   "metadata": {},
   "outputs": [
    {
     "data": {
      "text/plain": [
       "(999, 10)"
      ]
     },
     "execution_count": 17,
     "metadata": {},
     "output_type": "execute_result"
    }
   ],
   "source": [
    "simtest_data.shape"
   ]
  },
  {
   "cell_type": "code",
   "execution_count": 66,
   "metadata": {},
   "outputs": [
    {
     "data": {
      "text/html": [
       "<div>\n",
       "<style scoped>\n",
       "    .dataframe tbody tr th:only-of-type {\n",
       "        vertical-align: middle;\n",
       "    }\n",
       "\n",
       "    .dataframe tbody tr th {\n",
       "        vertical-align: top;\n",
       "    }\n",
       "\n",
       "    .dataframe thead th {\n",
       "        text-align: right;\n",
       "    }\n",
       "</style>\n",
       "<table border=\"1\" class=\"dataframe\">\n",
       "  <thead>\n",
       "    <tr style=\"text-align: right;\">\n",
       "      <th></th>\n",
       "      <th>word1</th>\n",
       "      <th>word2</th>\n",
       "      <th>POS</th>\n",
       "      <th>SimLex999</th>\n",
       "      <th>conc(w1)</th>\n",
       "      <th>conc(w2)</th>\n",
       "      <th>concQ</th>\n",
       "      <th>Assoc(USF)</th>\n",
       "      <th>SimAssoc333</th>\n",
       "      <th>SD(SimLex)</th>\n",
       "    </tr>\n",
       "  </thead>\n",
       "  <tbody>\n",
       "    <tr>\n",
       "      <th>0</th>\n",
       "      <td>old</td>\n",
       "      <td>new</td>\n",
       "      <td>A</td>\n",
       "      <td>1.58</td>\n",
       "      <td>2.72</td>\n",
       "      <td>2.81</td>\n",
       "      <td>2</td>\n",
       "      <td>7.25</td>\n",
       "      <td>1</td>\n",
       "      <td>0.41</td>\n",
       "    </tr>\n",
       "    <tr>\n",
       "      <th>2</th>\n",
       "      <td>hard</td>\n",
       "      <td>difficult</td>\n",
       "      <td>A</td>\n",
       "      <td>8.77</td>\n",
       "      <td>3.76</td>\n",
       "      <td>2.21</td>\n",
       "      <td>2</td>\n",
       "      <td>5.94</td>\n",
       "      <td>1</td>\n",
       "      <td>1.19</td>\n",
       "    </tr>\n",
       "    <tr>\n",
       "      <th>4</th>\n",
       "      <td>hard</td>\n",
       "      <td>easy</td>\n",
       "      <td>A</td>\n",
       "      <td>0.95</td>\n",
       "      <td>3.76</td>\n",
       "      <td>2.07</td>\n",
       "      <td>2</td>\n",
       "      <td>5.82</td>\n",
       "      <td>1</td>\n",
       "      <td>0.93</td>\n",
       "    </tr>\n",
       "    <tr>\n",
       "      <th>5</th>\n",
       "      <td>fast</td>\n",
       "      <td>rapid</td>\n",
       "      <td>A</td>\n",
       "      <td>8.75</td>\n",
       "      <td>3.32</td>\n",
       "      <td>3.07</td>\n",
       "      <td>2</td>\n",
       "      <td>5.66</td>\n",
       "      <td>1</td>\n",
       "      <td>1.68</td>\n",
       "    </tr>\n",
       "    <tr>\n",
       "      <th>6</th>\n",
       "      <td>happy</td>\n",
       "      <td>glad</td>\n",
       "      <td>A</td>\n",
       "      <td>9.17</td>\n",
       "      <td>2.56</td>\n",
       "      <td>2.36</td>\n",
       "      <td>1</td>\n",
       "      <td>5.49</td>\n",
       "      <td>1</td>\n",
       "      <td>1.59</td>\n",
       "    </tr>\n",
       "    <tr>\n",
       "      <th>7</th>\n",
       "      <td>short</td>\n",
       "      <td>long</td>\n",
       "      <td>A</td>\n",
       "      <td>1.23</td>\n",
       "      <td>3.61</td>\n",
       "      <td>3.18</td>\n",
       "      <td>2</td>\n",
       "      <td>5.36</td>\n",
       "      <td>1</td>\n",
       "      <td>1.58</td>\n",
       "    </tr>\n",
       "    <tr>\n",
       "      <th>9</th>\n",
       "      <td>weird</td>\n",
       "      <td>strange</td>\n",
       "      <td>A</td>\n",
       "      <td>8.93</td>\n",
       "      <td>1.59</td>\n",
       "      <td>1.86</td>\n",
       "      <td>1</td>\n",
       "      <td>4.26</td>\n",
       "      <td>1</td>\n",
       "      <td>1.30</td>\n",
       "    </tr>\n",
       "    <tr>\n",
       "      <th>10</th>\n",
       "      <td>wide</td>\n",
       "      <td>narrow</td>\n",
       "      <td>A</td>\n",
       "      <td>1.03</td>\n",
       "      <td>3.06</td>\n",
       "      <td>3.04</td>\n",
       "      <td>2</td>\n",
       "      <td>4.06</td>\n",
       "      <td>1</td>\n",
       "      <td>0.58</td>\n",
       "    </tr>\n",
       "    <tr>\n",
       "      <th>11</th>\n",
       "      <td>bad</td>\n",
       "      <td>awful</td>\n",
       "      <td>A</td>\n",
       "      <td>8.42</td>\n",
       "      <td>1.68</td>\n",
       "      <td>1.92</td>\n",
       "      <td>1</td>\n",
       "      <td>3.41</td>\n",
       "      <td>1</td>\n",
       "      <td>1.74</td>\n",
       "    </tr>\n",
       "    <tr>\n",
       "      <th>12</th>\n",
       "      <td>easy</td>\n",
       "      <td>difficult</td>\n",
       "      <td>A</td>\n",
       "      <td>0.58</td>\n",
       "      <td>2.07</td>\n",
       "      <td>2.21</td>\n",
       "      <td>1</td>\n",
       "      <td>2.83</td>\n",
       "      <td>1</td>\n",
       "      <td>0.36</td>\n",
       "    </tr>\n",
       "    <tr>\n",
       "      <th>13</th>\n",
       "      <td>bad</td>\n",
       "      <td>terrible</td>\n",
       "      <td>A</td>\n",
       "      <td>7.78</td>\n",
       "      <td>1.68</td>\n",
       "      <td>2.04</td>\n",
       "      <td>1</td>\n",
       "      <td>2.31</td>\n",
       "      <td>1</td>\n",
       "      <td>1.43</td>\n",
       "    </tr>\n",
       "    <tr>\n",
       "      <th>14</th>\n",
       "      <td>hard</td>\n",
       "      <td>simple</td>\n",
       "      <td>A</td>\n",
       "      <td>1.38</td>\n",
       "      <td>3.76</td>\n",
       "      <td>1.62</td>\n",
       "      <td>2</td>\n",
       "      <td>2.16</td>\n",
       "      <td>1</td>\n",
       "      <td>1.03</td>\n",
       "    </tr>\n",
       "    <tr>\n",
       "      <th>18</th>\n",
       "      <td>large</td>\n",
       "      <td>huge</td>\n",
       "      <td>A</td>\n",
       "      <td>9.47</td>\n",
       "      <td>3.37</td>\n",
       "      <td>3.54</td>\n",
       "      <td>2</td>\n",
       "      <td>2.00</td>\n",
       "      <td>1</td>\n",
       "      <td>1.27</td>\n",
       "    </tr>\n",
       "    <tr>\n",
       "      <th>19</th>\n",
       "      <td>hard</td>\n",
       "      <td>tough</td>\n",
       "      <td>A</td>\n",
       "      <td>8.05</td>\n",
       "      <td>3.76</td>\n",
       "      <td>2.50</td>\n",
       "      <td>2</td>\n",
       "      <td>1.99</td>\n",
       "      <td>1</td>\n",
       "      <td>1.18</td>\n",
       "    </tr>\n",
       "    <tr>\n",
       "      <th>20</th>\n",
       "      <td>new</td>\n",
       "      <td>fresh</td>\n",
       "      <td>A</td>\n",
       "      <td>6.83</td>\n",
       "      <td>2.81</td>\n",
       "      <td>1.97</td>\n",
       "      <td>1</td>\n",
       "      <td>1.98</td>\n",
       "      <td>1</td>\n",
       "      <td>1.20</td>\n",
       "    </tr>\n",
       "    <tr>\n",
       "      <th>21</th>\n",
       "      <td>sharp</td>\n",
       "      <td>dull</td>\n",
       "      <td>A</td>\n",
       "      <td>0.60</td>\n",
       "      <td>3.86</td>\n",
       "      <td>2.37</td>\n",
       "      <td>2</td>\n",
       "      <td>1.48</td>\n",
       "      <td>1</td>\n",
       "      <td>1.39</td>\n",
       "    </tr>\n",
       "    <tr>\n",
       "      <th>22</th>\n",
       "      <td>quick</td>\n",
       "      <td>rapid</td>\n",
       "      <td>A</td>\n",
       "      <td>9.70</td>\n",
       "      <td>2.89</td>\n",
       "      <td>3.07</td>\n",
       "      <td>2</td>\n",
       "      <td>1.38</td>\n",
       "      <td>1</td>\n",
       "      <td>1.14</td>\n",
       "    </tr>\n",
       "    <tr>\n",
       "      <th>24</th>\n",
       "      <td>wonderful</td>\n",
       "      <td>terrific</td>\n",
       "      <td>A</td>\n",
       "      <td>8.63</td>\n",
       "      <td>1.82</td>\n",
       "      <td>2.07</td>\n",
       "      <td>1</td>\n",
       "      <td>1.17</td>\n",
       "      <td>1</td>\n",
       "      <td>1.63</td>\n",
       "    </tr>\n",
       "    <tr>\n",
       "      <th>25</th>\n",
       "      <td>strange</td>\n",
       "      <td>odd</td>\n",
       "      <td>A</td>\n",
       "      <td>9.02</td>\n",
       "      <td>1.86</td>\n",
       "      <td>1.70</td>\n",
       "      <td>1</td>\n",
       "      <td>1.16</td>\n",
       "      <td>1</td>\n",
       "      <td>1.04</td>\n",
       "    </tr>\n",
       "    <tr>\n",
       "      <th>28</th>\n",
       "      <td>simple</td>\n",
       "      <td>easy</td>\n",
       "      <td>A</td>\n",
       "      <td>9.40</td>\n",
       "      <td>1.62</td>\n",
       "      <td>2.07</td>\n",
       "      <td>1</td>\n",
       "      <td>0.96</td>\n",
       "      <td>1</td>\n",
       "      <td>1.51</td>\n",
       "    </tr>\n",
       "  </tbody>\n",
       "</table>\n",
       "</div>"
      ],
      "text/plain": [
       "        word1      word2 POS  SimLex999  conc(w1)  conc(w2)  concQ  \\\n",
       "0         old        new   A       1.58      2.72      2.81      2   \n",
       "2        hard  difficult   A       8.77      3.76      2.21      2   \n",
       "4        hard       easy   A       0.95      3.76      2.07      2   \n",
       "5        fast      rapid   A       8.75      3.32      3.07      2   \n",
       "6       happy       glad   A       9.17      2.56      2.36      1   \n",
       "7       short       long   A       1.23      3.61      3.18      2   \n",
       "9       weird    strange   A       8.93      1.59      1.86      1   \n",
       "10       wide     narrow   A       1.03      3.06      3.04      2   \n",
       "11        bad      awful   A       8.42      1.68      1.92      1   \n",
       "12       easy  difficult   A       0.58      2.07      2.21      1   \n",
       "13        bad   terrible   A       7.78      1.68      2.04      1   \n",
       "14       hard     simple   A       1.38      3.76      1.62      2   \n",
       "18      large       huge   A       9.47      3.37      3.54      2   \n",
       "19       hard      tough   A       8.05      3.76      2.50      2   \n",
       "20        new      fresh   A       6.83      2.81      1.97      1   \n",
       "21      sharp       dull   A       0.60      3.86      2.37      2   \n",
       "22      quick      rapid   A       9.70      2.89      3.07      2   \n",
       "24  wonderful   terrific   A       8.63      1.82      2.07      1   \n",
       "25    strange        odd   A       9.02      1.86      1.70      1   \n",
       "28     simple       easy   A       9.40      1.62      2.07      1   \n",
       "\n",
       "    Assoc(USF)  SimAssoc333  SD(SimLex)  \n",
       "0         7.25            1        0.41  \n",
       "2         5.94            1        1.19  \n",
       "4         5.82            1        0.93  \n",
       "5         5.66            1        1.68  \n",
       "6         5.49            1        1.59  \n",
       "7         5.36            1        1.58  \n",
       "9         4.26            1        1.30  \n",
       "10        4.06            1        0.58  \n",
       "11        3.41            1        1.74  \n",
       "12        2.83            1        0.36  \n",
       "13        2.31            1        1.43  \n",
       "14        2.16            1        1.03  \n",
       "18        2.00            1        1.27  \n",
       "19        1.99            1        1.18  \n",
       "20        1.98            1        1.20  \n",
       "21        1.48            1        1.39  \n",
       "22        1.38            1        1.14  \n",
       "24        1.17            1        1.63  \n",
       "25        1.16            1        1.04  \n",
       "28        0.96            1        1.51  "
      ]
     },
     "execution_count": 66,
     "metadata": {},
     "output_type": "execute_result"
    }
   ],
   "source": [
    "simtest_data.head()"
   ]
  },
  {
   "cell_type": "markdown",
   "metadata": {},
   "source": [
    "## Data Processing"
   ]
  },
  {
   "cell_type": "code",
   "execution_count": 14,
   "metadata": {},
   "outputs": [],
   "source": [
    "from models import Word2Vec"
   ]
  },
  {
   "cell_type": "code",
   "execution_count": 15,
   "metadata": {},
   "outputs": [],
   "source": [
    "model = Word2Vec(sentences)"
   ]
  },
  {
   "cell_type": "code",
   "execution_count": 16,
   "metadata": {},
   "outputs": [
    {
     "name": "stdout",
     "output_type": "stream",
     "text": [
      "Creating vocabulary\n",
      "Creating corpus matrix\n"
     ]
    }
   ],
   "source": [
    "model.create_vocabulary(r=200)\n",
    "model.create_corpus_matrix(L=2)"
   ]
  },
  {
   "cell_type": "markdown",
   "metadata": {},
   "source": [
    "## Word similarity test preparation"
   ]
  },
  {
   "cell_type": "code",
   "execution_count": 18,
   "metadata": {},
   "outputs": [],
   "source": [
    "path_data_simtest = '../dataset/SimLex-999/SimLex-999.txt'"
   ]
  },
  {
   "cell_type": "code",
   "execution_count": 19,
   "metadata": {},
   "outputs": [],
   "source": [
    "simtest_data = pd.read_table(path_data_simtest)"
   ]
  },
  {
   "cell_type": "code",
   "execution_count": 20,
   "metadata": {},
   "outputs": [
    {
     "data": {
      "text/plain": [
       "(999, 10)"
      ]
     },
     "execution_count": 20,
     "metadata": {},
     "output_type": "execute_result"
    }
   ],
   "source": [
    "simtest_data.shape"
   ]
  },
  {
   "cell_type": "code",
   "execution_count": 21,
   "metadata": {},
   "outputs": [],
   "source": [
    "for col in 'word1', 'word2':\n",
    "    simtest_data = simtest_data.loc[simtest_data[col].map(lambda x: x in model.vocab)]"
   ]
  },
  {
   "cell_type": "code",
   "execution_count": 22,
   "metadata": {},
   "outputs": [
    {
     "data": {
      "text/plain": [
       "(241, 10)"
      ]
     },
     "execution_count": 22,
     "metadata": {},
     "output_type": "execute_result"
    }
   ],
   "source": [
    "simtest_data.shape"
   ]
  },
  {
   "cell_type": "markdown",
   "metadata": {},
   "source": [
    "# EMF"
   ]
  },
  {
   "cell_type": "code",
   "execution_count": 23,
   "metadata": {},
   "outputs": [],
   "source": [
    "model_EMF = copy.deepcopy(model)"
   ]
  },
  {
   "cell_type": "code",
   "execution_count": 24,
   "metadata": {},
   "outputs": [
    {
     "name": "stdout",
     "output_type": "stream",
     "text": [
      "Computing of words embeddings\n",
      "Value of the objective:  -238119357.39017475\n"
     ]
    }
   ],
   "source": [
    "model_EMF.compute_embedds_EMF(5, alpha=.5)"
   ]
  },
  {
   "cell_type": "code",
   "execution_count": 25,
   "metadata": {},
   "outputs": [
    {
     "data": {
      "text/plain": [
       "(3723, 200)"
      ]
     },
     "execution_count": 25,
     "metadata": {},
     "output_type": "execute_result"
    }
   ],
   "source": [
    "model_EMF.W.shape"
   ]
  },
  {
   "cell_type": "code",
   "execution_count": 27,
   "metadata": {},
   "outputs": [
    {
     "name": "stderr",
     "output_type": "stream",
     "text": [
      "/Users/egor_baryshnikov/NLA-Project/notebooks/models.py:201: RuntimeWarning: invalid value encountered in true_divide\n",
      "  review_vec /= words_count\n"
     ]
    },
    {
     "data": {
      "text/plain": [
       "(194439, 200)"
      ]
     },
     "execution_count": 27,
     "metadata": {},
     "output_type": "execute_result"
    }
   ],
   "source": [
    "X_EMF = model_EMF.get_features_matrix(sentences)\n",
    "X_EMF.shape"
   ]
  },
  {
   "cell_type": "markdown",
   "metadata": {},
   "source": [
    "# RO"
   ]
  },
  {
   "cell_type": "code",
   "execution_count": 28,
   "metadata": {},
   "outputs": [
    {
     "name": "stdout",
     "output_type": "stream",
     "text": [
      "Iteration 1 has started\n",
      "-238119357.39017475\n",
      "Iteration 2 has started\n",
      "-239559767.94034463\n",
      "Iteration 3 has started\n",
      "-237104811.64661655\n",
      "Iteration 4 has started\n",
      "-237371524.69220865\n",
      "Iteration 5 has started\n",
      "-234329757.7393481\n",
      "Iteration 6 has started\n",
      "-234056705.22403586\n",
      "Iteration 7 has started\n",
      "-231559121.46592265\n",
      "Iteration 8 has started\n",
      "-232422736.96238202\n",
      "Iteration 9 has started\n",
      "-233076582.00003293\n",
      "Iteration 10 has started\n",
      "-237682031.22115788\n",
      "Iteration 11 has started\n",
      "-236134480.62144554\n",
      "Iteration 12 has started\n",
      "-236505035.55803984\n",
      "Iteration 13 has started\n",
      "-231191135.94350466\n",
      "Iteration 14 has started\n",
      "-236389022.82785344\n",
      "Iteration 15 has started\n",
      "-241556703.0950799\n",
      "Iteration 16 has started\n",
      "-242098362.89673612\n",
      "Iteration 17 has started\n",
      "-235150970.60118538\n",
      "Iteration 18 has started\n",
      "-236814003.18161786\n",
      "Iteration 19 has started\n",
      "-237737264.35266206\n",
      "Iteration 20 has started\n",
      "-239066270.54043892\n"
     ]
    }
   ],
   "source": [
    "model_RO = copy.deepcopy(model_EMF)\n",
    "model_RO.compute_embedds_riem(k=5, step=5e-5, max_iter=20, alpha=.5)\n",
    "#Ради картиночек Богу Картиночек можно построить плот лосса"
   ]
  },
  {
   "cell_type": "code",
   "execution_count": 29,
   "metadata": {},
   "outputs": [
    {
     "name": "stdout",
     "output_type": "stream",
     "text": [
      "Iteration 1 has started\n",
      "-238119357.39017475\n",
      "Iteration 2 has started\n",
      "-239559767.94034463\n",
      "Iteration 3 has started\n",
      "-237104811.64661655\n",
      "Iteration 4 has started\n",
      "-237371524.69220865\n",
      "Iteration 5 has started\n",
      "-234329757.7393481\n",
      "Iteration 6 has started\n",
      "-234056705.22403586\n",
      "Iteration 7 has started\n",
      "-231559121.46592265\n"
     ]
    }
   ],
   "source": [
    "model_RO = copy.deepcopy(model_EMF)\n",
    "model_RO.compute_embedds_riem(k=5, step=5e-5, max_iter=7, alpha=.5)"
   ]
  },
  {
   "cell_type": "code",
   "execution_count": 30,
   "metadata": {},
   "outputs": [
    {
     "data": {
      "text/plain": [
       "(3723, 200)"
      ]
     },
     "execution_count": 30,
     "metadata": {},
     "output_type": "execute_result"
    }
   ],
   "source": [
    "model_RO.W.shape"
   ]
  },
  {
   "cell_type": "code",
   "execution_count": 31,
   "metadata": {},
   "outputs": [
    {
     "name": "stderr",
     "output_type": "stream",
     "text": [
      "/Users/egor_baryshnikov/NLA-Project/notebooks/models.py:201: RuntimeWarning: invalid value encountered in true_divide\n",
      "  review_vec /= words_count\n"
     ]
    },
    {
     "data": {
      "text/plain": [
       "(194439, 200)"
      ]
     },
     "execution_count": 31,
     "metadata": {},
     "output_type": "execute_result"
    }
   ],
   "source": [
    "X_RO = model_RO.get_features_matrix(sentences)\n",
    "X_RO.shape"
   ]
  },
  {
   "cell_type": "markdown",
   "metadata": {},
   "source": [
    "## Testing"
   ]
  },
  {
   "cell_type": "code",
   "execution_count": 67,
   "metadata": {},
   "outputs": [],
   "source": [
    "def calculate_spearman(model, simtest_data= simtest_data, w1_colname= 'word1', w2_colname= 'word2'):\n",
    "\n",
    "    vec = pd.DataFrame()\n",
    "    for col in w1_colname, w2_colname:\n",
    "        vec[col] = simtest_data[col].apply(lambda x: model.get_word_embedding(x))\n",
    "\n",
    "    cosine_sim_lambda = lambda x: np.float64(cosine_similarity(vec.loc[x, w1_colname].reshape(1, -1),\n",
    "                                                               vec.loc[x, w2_colname].reshape(1, -1)))\n",
    "    for i in simtest_data.index:\n",
    "        vec.loc[i, 'cos_sim'] = cosine_sim_lambda(i)\n",
    "    \n",
    "    return spearmanr(np.array(simtest_data['SimLex999']), np.array(vec['cos_sim']))"
   ]
  },
  {
   "cell_type": "code",
   "execution_count": 69,
   "metadata": {},
   "outputs": [
    {
     "data": {
      "text/plain": [
       "SpearmanrResult(correlation=0.12277144201259625, pvalue=0.057011563144918447)"
      ]
     },
     "execution_count": 69,
     "metadata": {},
     "output_type": "execute_result"
    }
   ],
   "source": [
    "calculate_spearman(model_EMF)"
   ]
  },
  {
   "cell_type": "code",
   "execution_count": 70,
   "metadata": {},
   "outputs": [
    {
     "data": {
      "text/plain": [
       "SpearmanrResult(correlation=0.13051144877572177, pvalue=0.04294807615727263)"
      ]
     },
     "execution_count": 70,
     "metadata": {},
     "output_type": "execute_result"
    }
   ],
   "source": [
    "calculate_spearman(model_RO)"
   ]
  }
 ],
 "metadata": {
  "kernelspec": {
   "display_name": "Python 3",
   "language": "python",
   "name": "python3"
  },
  "language_info": {
   "codemirror_mode": {
    "name": "ipython",
    "version": 3
   },
   "file_extension": ".py",
   "mimetype": "text/x-python",
   "name": "python",
   "nbconvert_exporter": "python",
   "pygments_lexer": "ipython3",
   "version": "3.6.6"
  }
 },
 "nbformat": 4,
 "nbformat_minor": 2
}
